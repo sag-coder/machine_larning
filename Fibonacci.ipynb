{
 "cells": [
  {
   "cell_type": "code",
   "execution_count": 16,
   "id": "5a37248f",
   "metadata": {},
   "outputs": [
    {
     "data": {
      "text/plain": [
       "(21, 5)"
      ]
     },
     "execution_count": 16,
     "metadata": {},
     "output_type": "execute_result"
    }
   ],
   "source": [
    "def Fibonacchi(num):\n",
    "    if num==1 or num==2:\n",
    "        return 1\n",
    "    else:\n",
    "        return Fibonacchi(num-1)+Fibonacchi(num-2)\n",
    "Fibonacchi(8),Fibonacchi(5)"
   ]
  },
  {
   "cell_type": "code",
   "execution_count": null,
   "id": "c8ee2021",
   "metadata": {},
   "outputs": [],
   "source": []
  }
 ],
 "metadata": {
  "kernelspec": {
   "display_name": "Python 3 (ipykernel)",
   "language": "python",
   "name": "python3"
  },
  "language_info": {
   "codemirror_mode": {
    "name": "ipython",
    "version": 3
   },
   "file_extension": ".py",
   "mimetype": "text/x-python",
   "name": "python",
   "nbconvert_exporter": "python",
   "pygments_lexer": "ipython3",
   "version": "3.10.4"
  }
 },
 "nbformat": 4,
 "nbformat_minor": 5
}
